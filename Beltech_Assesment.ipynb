{
  "nbformat": 4,
  "nbformat_minor": 0,
  "metadata": {
    "colab": {
      "name": "Beltech_Assesment",
      "provenance": [],
      "collapsed_sections": [],
      "authorship_tag": "ABX9TyM1488BztwYbRqV27/6FOVB",
      "include_colab_link": true
    },
    "kernelspec": {
      "name": "python3",
      "display_name": "Python 3"
    }
  },
  "cells": [
    {
      "cell_type": "markdown",
      "metadata": {
        "id": "view-in-github",
        "colab_type": "text"
      },
      "source": [
        "<a href=\"https://colab.research.google.com/github/vibhavermaa/Complete-Python-3-Bootcamp/blob/master/Beltech_Assesment.ipynb\" target=\"_parent\"><img src=\"https://colab.research.google.com/assets/colab-badge.svg\" alt=\"Open In Colab\"/></a>"
      ]
    },
    {
      "cell_type": "code",
      "metadata": {
        "id": "gBOfXegoevG1"
      },
      "source": [
        "#Problem#1 Find the longest increasing subsequence of a given array of integers, A.\n",
        "\n",
        "#Solution Approach: since the problem contains optimal substructure and overlapping subsequences, Dynamic programming is applied for optimal.\n",
        "# Though, brute foce and memoization can also be applied to this problem\n",
        "# Paradigm : Dynamic Programming\n",
        "# Time complexity: O(n^2)"
      ],
      "execution_count": 99,
      "outputs": []
    },
    {
      "cell_type": "code",
      "metadata": {
        "id": "B_xrTti4fjVt"
      },
      "source": [
        "def count_max_sequence(arr):\n",
        "  n = len(arr)\n",
        "  result= 0\n",
        "  lookup_table = [1]*n\n",
        "\n",
        "  for i in reversed(range(n-1)):\n",
        "     for j in range(i+1,n):\n",
        "        if arr[i] < arr[j] and lookup_table[i] < lookup_table[j] + 1 : \n",
        "          lookup_table[i] = 1 + lookup_table[j]\n",
        "  return max(lookup_table)"
      ],
      "execution_count": 191,
      "outputs": []
    },
    {
      "cell_type": "code",
      "metadata": {
        "colab": {
          "base_uri": "https://localhost:8080/"
        },
        "id": "2e7Ozu2ze2EE",
        "outputId": "5ae7f06a-5def-45e2-b5ff-923737eb387c"
      },
      "source": [
        "if __name__ == '__main__':\n",
        "    a = [0,8,4,12,2,10,6,14,1,9,5,13,3,11,7,15]\n",
        "    print(count_max_sequence(a))"
      ],
      "execution_count": 192,
      "outputs": [
        {
          "output_type": "stream",
          "text": [
            "6\n"
          ],
          "name": "stdout"
        }
      ]
    },
    {
      "cell_type": "code",
      "metadata": {
        "id": "amer1k5qtDr2"
      },
      "source": [
        "# Problem2: Write a method to count the number of 2s between 0 and n."
      ],
      "execution_count": 107,
      "outputs": []
    },
    {
      "cell_type": "code",
      "metadata": {
        "id": "k9FT85OwxAlY"
      },
      "source": [
        "def count_2s(num):\n",
        "  count = 0\n",
        "  num_list = [str(i) for i in range(num+1)]\n",
        "  convert_to_string = \"\".join(num_list)\n",
        "  return convert_to_string.count('2')"
      ],
      "execution_count": 265,
      "outputs": []
    },
    {
      "cell_type": "code",
      "metadata": {
        "colab": {
          "base_uri": "https://localhost:8080/"
        },
        "id": "TruAZlys_bRr",
        "outputId": "c1574f29-e351-4bc7-82fd-a8a5fb860176"
      },
      "source": [
        "if __name__ == '__main__':\n",
        "    T = 1\n",
        "    num = 22\n",
        "    print(count_2s(num))"
      ],
      "execution_count": 266,
      "outputs": [
        {
          "output_type": "stream",
          "text": [
            "6\n"
          ],
          "name": "stdout"
        }
      ]
    },
    {
      "cell_type": "code",
      "metadata": {
        "id": "FJuh-QuY_6F1"
      },
      "source": [
        ""
      ],
      "execution_count": 238,
      "outputs": []
    },
    {
      "cell_type": "code",
      "metadata": {
        "id": "XFVZYZnu_7s4"
      },
      "source": [
        ""
      ],
      "execution_count": 245,
      "outputs": []
    },
    {
      "cell_type": "code",
      "metadata": {
        "id": "8BM4BuboAZkJ"
      },
      "source": [
        ""
      ],
      "execution_count": 245,
      "outputs": []
    },
    {
      "cell_type": "code",
      "metadata": {
        "id": "nBaLwLQJAb4Y"
      },
      "source": [
        "\n"
      ],
      "execution_count": 233,
      "outputs": []
    },
    {
      "cell_type": "code",
      "metadata": {
        "id": "1TaPTJrRCS2d"
      },
      "source": [
        ""
      ],
      "execution_count": null,
      "outputs": []
    }
  ]
}